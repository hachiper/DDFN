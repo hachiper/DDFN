{
 "cells": [
  {
   "cell_type": "code",
   "id": "initial_id",
   "metadata": {
    "collapsed": true,
    "ExecuteTime": {
     "end_time": "2025-07-25T15:00:37.689872Z",
     "start_time": "2025-07-25T15:00:37.685870Z"
    }
   },
   "source": [
    "import torch\n",
    "import torch.nn as nn\n",
    "import torch.optim as opt\n",
    "from model.sffnet import USFFNet\n",
    "from utils.evaluate import Evaluate\n",
    "\n",
    "from torch.utils.data import DataLoader, TensorDataset\n",
    "# from torch.utils.tensorboard import SummaryWriter\n",
    "# writer = SummaryWriter('./logs')\n",
    "from torchvision import utils as vutils\n",
    "import os\n",
    "import random\n",
    "import pandas as pd\n",
    "import numpy as np\n",
    "import warnings\n",
    "import numpy as np\n",
    "import pandas as pd\n",
    "import torch\n",
    "from torch.utils.data import DataLoader, TensorDataset\n",
    "from tqdm import tqdm\n",
    "warnings.filterwarnings('ignore')"
   ],
   "outputs": [],
   "execution_count": 11
  },
  {
   "metadata": {
    "ExecuteTime": {
     "end_time": "2025-07-25T15:00:37.697470Z",
     "start_time": "2025-07-25T15:00:37.693958Z"
    }
   },
   "cell_type": "code",
   "source": [
    "device = 'cuda:0'\n",
    "batch_size = 128\n",
    "stride = 1\n",
    "window_size = 150\n",
    "\n",
    "path = './datasets/SOC/0degC'\n",
    "train_list = ['589_Mixed1.csv', '589_Mixed2.csv', '590_Mixed4.csv', '590_Mixed5.csv', '590_Mixed6.csv', '590_Mixed7.csv']\n",
    "test_list = ['590_Mixed8.csv']"
   ],
   "id": "24d1c06bf73ae848",
   "outputs": [],
   "execution_count": 12
  },
  {
   "metadata": {
    "ExecuteTime": {
     "end_time": "2025-07-25T15:00:39.826424Z",
     "start_time": "2025-07-25T15:00:37.702475Z"
    }
   },
   "cell_type": "code",
   "source": [
    "from utils.build_dataloader import get_dataloder\n",
    "train_loader, test_loader = get_dataloder(path, window_size, stride, train_list, test_list, batch_size, device)"
   ],
   "id": "bdb89e5efab554a1",
   "outputs": [
    {
     "name": "stdout",
     "output_type": "stream",
     "text": [
      "loading data...\n"
     ]
    },
    {
     "name": "stderr",
     "output_type": "stream",
     "text": [
      "100%|██████████| 6/6 [00:00<00:00,  6.96it/s]\n",
      "100%|██████████| 1/1 [00:00<00:00,  6.45it/s]\n"
     ]
    }
   ],
   "execution_count": 13
  },
  {
   "metadata": {
    "ExecuteTime": {
     "end_time": "2025-07-25T15:00:39.834988Z",
     "start_time": "2025-07-25T15:00:39.830970Z"
    }
   },
   "cell_type": "code",
   "source": [
    "test_ratio = 1\n",
    "epoches = 20\n",
    "weight_decay = 1e-4\n",
    "learning_rate = 5e-4\n",
    "loss_funcation = nn.MSELoss()\n",
    "evaluater = Evaluate(path.split('/')[1], 'Ablation', test_ratio)\n",
    "block_num = 5\n",
    "feature_num = 3\n",
    "\n",
    "spa_ks_list = [3, 5, 7, 7, 7]\n",
    "fre_ks_list = [3, 5, 7, 7, 7]\n",
    "fus_ks_list = [3, 3, 7, 7, 7]\n",
    "mid_channel_list = [32, 16, 8, 4, 4]\n"
   ],
   "id": "7ba17319fe97181c",
   "outputs": [],
   "execution_count": 14
  },
  {
   "metadata": {
    "ExecuteTime": {
     "end_time": "2025-07-25T15:00:39.856699Z",
     "start_time": "2025-07-25T15:00:39.837536Z"
    }
   },
   "cell_type": "code",
   "source": [
    "import torch\n",
    "import math\n",
    "import torch.nn.init as init\n",
    "import torch.nn as nn\n",
    "import torch.fft as fft\n",
    "from model.uncertainty_head import UncertaintyHead\n",
    "from model.basic_module import *\n",
    "from Embed import *\n",
    "from torchvision import utils as vutils\n",
    "import time\n",
    "\n",
    "\n",
    "class SpatialFlow(nn.Module):\n",
    "\n",
    "    def __init__(self, window_size, feature_num, mid_channel, kernel_size):\n",
    "        super(SpatialFlow, self).__init__()\n",
    "        padding = int(kernel_size//2)\n",
    "        self.up_conv1 = nn.Conv1d(feature_num  ,feature_num*2,kernel_size,1,padding)\n",
    "        self.up_conv2 = nn.Conv1d(feature_num*2,feature_num*4,kernel_size,1,padding)\n",
    "\n",
    "        self.c_conv = nn.Conv1d(feature_num*4, feature_num*4,kernel_size,1,padding)\n",
    "\n",
    "        self.down_conv2 = nn.Conv1d(feature_num*4,feature_num*2,kernel_size,1,padding)\n",
    "        self.down_conv1 = nn.Conv1d(feature_num*2,feature_num  ,kernel_size,1,padding)\n",
    "        # self.icb = ICB(feature_num,mid_channel)\n",
    "        # up_sampling\n",
    "\n",
    "        # down_sampling\n",
    "\n",
    "        self.Spa_CNN = nn.Sequential(nn.Conv1d(feature_num, mid_channel, kernel_size, 1, padding),\n",
    "                                      nn.ReLU(),\n",
    "                                      nn.Conv1d(mid_channel, feature_num, kernel_size, 1, padding),\n",
    "                                      )\n",
    "        self.act = nn.ReLU()\n",
    "\n",
    "\n",
    "    def forward(self, x):\n",
    "        Spa_feature = self.Spa_CNN(x)\n",
    "\n",
    "        return Spa_feature\n",
    "\n",
    "\n",
    "class FrequencyFlow(nn.Module):\n",
    "\n",
    "    def __init__(self, window_size, feature_num, mid_channel, kernel_size):\n",
    "        super(FrequencyFlow, self).__init__()\n",
    "        padding = int(kernel_size//2)\n",
    "        self.pha_process = nn.Sequential(nn.Conv1d(feature_num, mid_channel, kernel_size, 1, padding), nn.ReLU(),\n",
    "                                        nn.Conv1d(mid_channel, feature_num, kernel_size, 1, padding))\n",
    "        self.amp_process = nn.Sequential(nn.Conv1d(feature_num, mid_channel, kernel_size, 1, padding), nn.ReLU(),\n",
    "                                        nn.Conv1d(mid_channel, feature_num, kernel_size, 1, padding))\n",
    "\n",
    "    def make_complex(self, phase, amplitude):\n",
    "        real = amplitude * torch.cos(phase)\n",
    "        im = amplitude * torch.sin(phase)\n",
    "        complex_num = torch.complex(real, im)\n",
    "        return complex_num\n",
    "\n",
    "    def forward(self, x):\n",
    "        frequency = fft.fft(x, dim=2, norm='backward')\n",
    "        phase = torch.angle(frequency)\n",
    "        magnitude = torch.abs(frequency)\n",
    "        refine_phase = self.pha_process(phase)\n",
    "        refine_magnitude = self.amp_process(magnitude)\n",
    "        refine_spatial = self.make_complex(refine_phase, refine_magnitude)\n",
    "        Fre_feature = torch.abs(fft.ifft(refine_spatial, dim=2, norm='backward'))\n",
    "        return Fre_feature\n",
    "\n",
    "\n",
    "class FusionBlock(nn.Module):\n",
    "\n",
    "    def __init__(self, window_size, kernel_size, feature_num, r):\n",
    "        super(FusionBlock, self).__init__()\n",
    "        self.SA = SpatialAttention(kernel_size)\n",
    "        self.CA = ChannelAttention(feature_num, r)\n",
    "\n",
    "\n",
    "    def forward(self, fre_feature, spa_feature):\n",
    "        spatial_refine_feature = self.SA(fre_feature - spa_feature)\n",
    "        channel_refine_feature = self.CA(fre_feature + spa_feature)\n",
    "        return channel_refine_feature + spatial_refine_feature\n",
    "\n",
    "class ICB(nn.Module):\n",
    "    def __init__(self, in_features, hidden_features, drop=0.7):\n",
    "        super().__init__()\n",
    "        self.conv1 = nn.Conv1d(in_features, hidden_features, 1)\n",
    "        self.conv2 = nn.Conv1d(in_features, hidden_features, 3, 1, padding=1)\n",
    "        self.conv3 = nn.Conv1d(hidden_features, in_features, 1)\n",
    "        self.drop = nn.Dropout(drop)\n",
    "        self.act = nn.ReLU()\n",
    "        self.bn = nn.BatchNorm1d(in_features)\n",
    "\n",
    "    def forward(self, x):\n",
    "        # x = x.transpose(1, 2)\n",
    "        x1 = self.conv1(x)\n",
    "        x1_1 = self.act(x1)\n",
    "        x1_2 = self.drop(x1_1)\n",
    "\n",
    "        x2 = self.conv2(x)\n",
    "        x2_1 = self.act(x2)\n",
    "        x2_2 = self.drop(x2_1)\n",
    "\n",
    "        out1 = x1 * x2_2\n",
    "        out2 = x2 * x1_2\n",
    "\n",
    "        out = self.conv3(out1 + out2)\n",
    "\n",
    "        return out\n",
    "\n",
    "\n",
    "\n",
    "\n",
    "class CRU(nn.Module):\n",
    "\n",
    "    def __init__(self, window_size, kernel_size, feature_num, r):\n",
    "        super(CRU, self).__init__()\n",
    "        self.vc_channel = 2\n",
    "        self.t_channel = 1\n",
    "        ratio = 2\n",
    "        self.vc_conv1   = nn.Conv1d(self.vc_channel,self.vc_channel*ratio,kernel_size)\n",
    "        self.t_conv1 = nn.Conv1d(self.t_channel,self.t_channel*ratio,kernel_size)\n",
    "\n",
    "        self.vc_conv2 =nn.Conv1d(self.vc_channel*ratio,self.vc_channel,1)\n",
    "        self.t_conv2 = nn.Conv1d(self.t_channel*ratio,self.t_channel,1)\n",
    "\n",
    "        self.vc_conv3 =nn.Conv1d(self.vc_channel*ratio,self.vc_channel,kernel_size)\n",
    "        self.t_conv3 = nn.Conv1d(self.t_channel*ratio,self.t_channel,kernel_size)\n",
    "\n",
    "    def forward(self, x):\n",
    "        vc,t = torch.split(x,[self.vc_channel,self.t_channel],dim=1)\n",
    "        vc = self.vc_conv(vc)\n",
    "        t  = self.t_conv(t)\n",
    "\n",
    "        vc = self.vc_conv2(vc) + self.vc_conv3(vc)\n",
    "        t = self.t_conv2(t) + self.vc_conv3(t)\n",
    "\n",
    "        feature = torch.cat([vc,t],dim=1)\n",
    "\n",
    "        return feature + x\n",
    "\n",
    "class PAIFILTER(nn.Module):\n",
    "\n",
    "    def __init__(self,hidden_size,seq_len):\n",
    "        super(PAIFILTER, self).__init__()\n",
    "        self.seq_len = seq_len\n",
    "        self.pred_len = 1\n",
    "        self.scale = 0.02\n",
    "\n",
    "        self.embed_size = self.seq_len\n",
    "        self.hidden_size = hidden_size\n",
    "\n",
    "        self.w = nn.Parameter(self.scale * torch.randn(3, self.embed_size))\n",
    "\n",
    "        self.fc = nn.Sequential(\n",
    "            nn.Linear(self.embed_size, self.hidden_size),\n",
    "            nn.LeakyReLU(),\n",
    "            nn.Linear(self.hidden_size, self.pred_len)\n",
    "        )\n",
    "        self.softmx = nn.Softmax(dim=1)\n",
    "\n",
    "\n",
    "    def circular_convolution(self, x, w):\n",
    "        x = torch.fft.rfft(x, dim=2, norm='ortho')\n",
    "        w = torch.fft.rfft(w, dim=1, norm='ortho')\n",
    "        y = x * w\n",
    "        out = torch.fft.irfft(y, n=self.embed_size, dim=2, norm=\"ortho\")\n",
    "        return out\n",
    "\n",
    "    def forward(self, x):\n",
    "        x = self.circular_convolution(x, self.w.to(x.device))  # B, N, D\n",
    "        x = self.fc(x)\n",
    "        x = self.softmx(x)\n",
    "\n",
    "        return x\n",
    "\n",
    "\n",
    "class SFFBlock(nn.Module):\n",
    "\n",
    "    def __init__(self, window_size, feature_num, mid_channel, spa_ks, fre_ks, fus_ks, r, fb, sf, ff):\n",
    "        super(SFFBlock, self).__init__()\n",
    "        self.fb, self.sf, self.ff = fb, sf, ff\n",
    "        if fb is True:\n",
    "            self.FB = FusionBlock(window_size, fus_ks, feature_num, r)\n",
    "        if sf is True:\n",
    "            self.SF = SpatialFlow(window_size, feature_num, mid_channel, spa_ks)\n",
    "        if ff is True:\n",
    "            self.FF = FrequencyFlow(window_size, feature_num, mid_channel, fre_ks)\n",
    "\n",
    "        self.ffn = nn.Linear(feature_num*2,feature_num)\n",
    "        self.act = nn.Sigmoid()\n",
    "\n",
    "    def forward(self, x):\n",
    "\n",
    "        if self.sf is True:\n",
    "            Spa_feature = self.SF(x)\n",
    "        if self.ff is True:\n",
    "            Fre_feature = self.FF(x)\n",
    "        if self.fb is True:\n",
    "            # feature = Spa_feature\n",
    "            # feature = Fre_feature\n",
    "            # feature = Fre_feature + Spa_feature\n",
    "            feature = self.ffn(torch.concat([Spa_feature , Fre_feature],dim=1).transpose(2,1)).transpose(1,2)\n",
    "            # feature = self.FB(Spa_feature,Fre_feature)\n",
    "            # feature = self.icb(torch.concat([Spa_feature , Fre_feature],dim=1))\n",
    "\n",
    "        return feature+x\n",
    "\n",
    "\n",
    "class USFFNet(nn.Module):\n",
    "\n",
    "    def __init__(self, num_block, feature_num, window_size,stride, mid_channel_list, spa_ks_list, fre_ks_list, fus_ks_list):\n",
    "        super(USFFNet, self).__init__()\n",
    "        self.SFFBlock = nn.Sequential()\n",
    "        for i in range(num_block):\n",
    "             self.SFFBlock.add_module('SFFBlock'+str(i), SFFBlock(window_size, feature_num, mid_channel_list[i], spa_ks_list[i], fre_ks_list[i], fus_ks_list[i], 2, True, True, True))\n",
    "        self.CNNI = nn.Sequential(nn.Conv1d(feature_num, 1, 3, 1, 1))\n",
    "        self.Uncertainty_Head = UncertaintyHead(window_size,stride)\n",
    "        # self.icb = ICB(feature_num, feature_num)\n",
    "        self.embedding = DataEmbedding(feature_num,feature_num)\n",
    "\n",
    "        self.paifilter = PAIFILTER(hidden_size=50,seq_len=window_size)\n",
    "\n",
    "    def forward(self, x):\n",
    "\n",
    "        embeded_x = self.embedding(x)\n",
    "        # print(feature.shape)\n",
    "        # feature, weight  = self.Adaptive_Spectral_Block(embeded_x)\n",
    "        # print(feature.shape,sum(freq_mask))\n",
    "        # print(feature.shape)\n",
    "\n",
    "        weight = self.paifilter(embeded_x)\n",
    "\n",
    "        # feature = self.SFFBlock(feature + x )\n",
    "        feature = self.SFFBlock(weight * embeded_x + x)\n",
    "        # feature = self.CNNI(feature)\n",
    "        # feature = self.icb(feature)\n",
    "        #\n",
    "\n",
    "        feature = feature.reshape(feature.shape[0], feature.shape[1]*feature.shape[2])\n",
    "\n",
    "        gamma, nu, alpha, beta = self.Uncertainty_Head.forward(feature)\n",
    "        return gamma, nu, alpha, beta\n",
    "\n",
    "\n"
   ],
   "id": "b4409ae89b8ca94",
   "outputs": [],
   "execution_count": 15
  },
  {
   "metadata": {
    "ExecuteTime": {
     "end_time": "2025-07-25T15:00:39.926324Z",
     "start_time": "2025-07-25T15:00:39.861220Z"
    }
   },
   "cell_type": "code",
   "source": [
    "model = USFFNet(block_num, feature_num, window_size,stride, mid_channel_list, spa_ks_list, fre_ks_list, fus_ks_list).to(device)\n",
    "\n",
    "optimizer = opt.Adam(params=model.parameters(), lr=learning_rate, weight_decay=weight_decay)\n",
    "evaluater.record_param_setting(window_size, stride, batch_size, learning_rate, weight_decay, model)\n",
    "scheduler = torch.optim.lr_scheduler.StepLR(optimizer, step_size=20, gamma=0.2)\n"
   ],
   "id": "c25b6dc36c1619e9",
   "outputs": [],
   "execution_count": 16
  },
  {
   "metadata": {
    "ExecuteTime": {
     "end_time": "2025-07-25T15:00:39.934869Z",
     "start_time": "2025-07-25T15:00:39.931887Z"
    }
   },
   "cell_type": "code",
   "source": [
    "lambda_coef = []\n",
    "train_loss = []\n",
    "vaild_loss = []"
   ],
   "id": "da6988f3c24b6038",
   "outputs": [],
   "execution_count": 17
  },
  {
   "metadata": {
    "ExecuteTime": {
     "end_time": "2025-07-25T15:28:34.104391Z",
     "start_time": "2025-07-25T15:00:39.939412Z"
    }
   },
   "cell_type": "code",
   "source": [
    "for epoch in range(epoches):\n",
    "    model.train()\n",
    "    epoch_loss = 0\n",
    "    print('epoch: '+str(epoch))\n",
    "    for x, y in tqdm(train_loader):\n",
    "        # train\n",
    "        gamma, nu, alpha, beta = model.forward(x)\n",
    "        loss, nig_loss, nig_regularization = model.Uncertainty_Head.get_loss(y, gamma, nu, alpha, beta)\n",
    "\n",
    "        loss = loss_funcation(gamma, y)+loss\n",
    "        optimizer.zero_grad()\n",
    "        loss.backward()\n",
    "        optimizer.step()\n",
    "        model.Uncertainty_Head.hyperparams_update(nig_regularization)\n",
    "        # print(gamma.shape)\n",
    "        _loss = loss_funcation(gamma, y)\n",
    "        epoch_loss += _loss.item()\n",
    "\n",
    "    epoch_loss /= train_loader.__len__()\n",
    "#     writer.add_scalar(\"Loss/train\",epoch_loss,epoch)\n",
    "    lambda_coef.append(model.Uncertainty_Head.lambda_coef.detach().cpu().numpy())\n",
    "    train_loss.append(epoch_loss)\n",
    "    print('trainning_loss = '+str(epoch_loss))\n",
    "    if epoch%test_ratio == 0:\n",
    "        model.eval()\n",
    "        epoch_loss = 0\n",
    "        for x, y in test_loader:\n",
    "            gamma, nu, alpha, beta = model.forward(x)\n",
    "            gamma = torch.cat((gamma[:5], (gamma[:-5] + gamma[1:-4]  + gamma[2:-3] + gamma[3:-2] + gamma[4:-1]) / 5), dim=0)\n",
    "            _loss = loss_funcation(gamma, y)\n",
    "            epoch_loss += _loss.item()\n",
    "        epoch_loss /= test_loader.__len__()\n",
    "#         writer.add_scalar('Loss/vali',epoch_loss,epoch)\n",
    "\n",
    "        vaild_loss.append(epoch_loss)\n",
    "        print('testing_loss = '+str(epoch_loss))\n",
    "\n",
    "    # if early_stopping.early_stop:\n",
    "    #     print(\"Early stopping\")\n",
    "    #    break\n",
    "    evaluater.visualize(train_loss, vaild_loss, model, None)"
   ],
   "id": "589df0f1d64f2b",
   "outputs": [
    {
     "name": "stdout",
     "output_type": "stream",
     "text": [
      "epoch: 0\n"
     ]
    },
    {
     "name": "stderr",
     "output_type": "stream",
     "text": [
      "100%|██████████| 2810/2810 [01:52<00:00, 25.01it/s]\n"
     ]
    },
    {
     "name": "stdout",
     "output_type": "stream",
     "text": [
      "trainning_loss = 0.0027979166089313508\n",
      "testing_loss = 0.003301918380660642\n",
      "Validation loss decreased (1.000000 --> 0.003302).  Saving model ...\n",
      "epoch: 1\n"
     ]
    },
    {
     "name": "stderr",
     "output_type": "stream",
     "text": [
      "100%|██████████| 2810/2810 [00:56<00:00, 50.13it/s]\n"
     ]
    },
    {
     "name": "stdout",
     "output_type": "stream",
     "text": [
      "trainning_loss = 0.0012469554582844385\n",
      "testing_loss = 0.008992151250080335\n",
      "epoch: 2\n"
     ]
    },
    {
     "name": "stderr",
     "output_type": "stream",
     "text": [
      "100%|██████████| 2810/2810 [00:58<00:00, 48.22it/s]\n"
     ]
    },
    {
     "name": "stdout",
     "output_type": "stream",
     "text": [
      "trainning_loss = 0.0010986974646604133\n",
      "testing_loss = 0.0068816681075799455\n",
      "epoch: 3\n"
     ]
    },
    {
     "name": "stderr",
     "output_type": "stream",
     "text": [
      "100%|██████████| 2810/2810 [00:57<00:00, 48.49it/s]\n"
     ]
    },
    {
     "name": "stdout",
     "output_type": "stream",
     "text": [
      "trainning_loss = 0.0010045558329360076\n",
      "testing_loss = 0.0045992808517563415\n",
      "epoch: 4\n"
     ]
    },
    {
     "name": "stderr",
     "output_type": "stream",
     "text": [
      "100%|██████████| 2810/2810 [00:58<00:00, 48.16it/s]\n"
     ]
    },
    {
     "name": "stdout",
     "output_type": "stream",
     "text": [
      "trainning_loss = 0.000941632031293228\n",
      "testing_loss = 0.006020145818013134\n",
      "epoch: 5\n"
     ]
    },
    {
     "name": "stderr",
     "output_type": "stream",
     "text": [
      "100%|██████████| 2810/2810 [01:20<00:00, 34.76it/s]\n"
     ]
    },
    {
     "name": "stdout",
     "output_type": "stream",
     "text": [
      "trainning_loss = 0.0008905687518343264\n",
      "testing_loss = 0.006687500915891111\n",
      "epoch: 6\n"
     ]
    },
    {
     "name": "stderr",
     "output_type": "stream",
     "text": [
      "100%|██████████| 2810/2810 [01:24<00:00, 33.22it/s]\n"
     ]
    },
    {
     "name": "stdout",
     "output_type": "stream",
     "text": [
      "trainning_loss = 0.0008512032800250491\n",
      "testing_loss = 0.006761962585401156\n",
      "epoch: 7\n"
     ]
    },
    {
     "name": "stderr",
     "output_type": "stream",
     "text": [
      "100%|██████████| 2810/2810 [01:23<00:00, 33.59it/s]\n"
     ]
    },
    {
     "name": "stdout",
     "output_type": "stream",
     "text": [
      "trainning_loss = 0.000813767508890735\n",
      "testing_loss = 0.007244040046092483\n",
      "epoch: 8\n"
     ]
    },
    {
     "name": "stderr",
     "output_type": "stream",
     "text": [
      "100%|██████████| 2810/2810 [01:19<00:00, 35.42it/s]\n"
     ]
    },
    {
     "name": "stdout",
     "output_type": "stream",
     "text": [
      "trainning_loss = 0.0007852461571731436\n",
      "testing_loss = 0.0071649525911572495\n",
      "epoch: 9\n"
     ]
    },
    {
     "name": "stderr",
     "output_type": "stream",
     "text": [
      "100%|██████████| 2810/2810 [01:20<00:00, 34.96it/s]\n"
     ]
    },
    {
     "name": "stdout",
     "output_type": "stream",
     "text": [
      "trainning_loss = 0.000769605709250612\n",
      "testing_loss = 0.008229900833516894\n",
      "epoch: 10\n"
     ]
    },
    {
     "name": "stderr",
     "output_type": "stream",
     "text": [
      "100%|██████████| 2810/2810 [01:20<00:00, 34.90it/s]\n"
     ]
    },
    {
     "name": "stdout",
     "output_type": "stream",
     "text": [
      "trainning_loss = 0.0007597309325322894\n",
      "testing_loss = 0.008524044084719615\n",
      "epoch: 11\n"
     ]
    },
    {
     "name": "stderr",
     "output_type": "stream",
     "text": [
      "100%|██████████| 2810/2810 [01:20<00:00, 35.09it/s]\n"
     ]
    },
    {
     "name": "stdout",
     "output_type": "stream",
     "text": [
      "trainning_loss = 0.000736297329618874\n",
      "testing_loss = 0.006310751009016425\n",
      "epoch: 12\n"
     ]
    },
    {
     "name": "stderr",
     "output_type": "stream",
     "text": [
      "100%|██████████| 2810/2810 [01:19<00:00, 35.45it/s]\n"
     ]
    },
    {
     "name": "stdout",
     "output_type": "stream",
     "text": [
      "trainning_loss = 0.0007195621005962089\n",
      "testing_loss = 0.006144575516429995\n",
      "epoch: 13\n"
     ]
    },
    {
     "name": "stderr",
     "output_type": "stream",
     "text": [
      "100%|██████████| 2810/2810 [01:20<00:00, 34.97it/s]\n"
     ]
    },
    {
     "name": "stdout",
     "output_type": "stream",
     "text": [
      "trainning_loss = 0.0007079102562220927\n",
      "testing_loss = 0.005649645309976764\n",
      "epoch: 14\n"
     ]
    },
    {
     "name": "stderr",
     "output_type": "stream",
     "text": [
      "100%|██████████| 2810/2810 [01:20<00:00, 35.10it/s]\n"
     ]
    },
    {
     "name": "stdout",
     "output_type": "stream",
     "text": [
      "trainning_loss = 0.0006979521028606347\n",
      "testing_loss = 0.005132518315937105\n",
      "epoch: 15\n"
     ]
    },
    {
     "name": "stderr",
     "output_type": "stream",
     "text": [
      "100%|██████████| 2810/2810 [01:20<00:00, 34.98it/s]\n"
     ]
    },
    {
     "name": "stdout",
     "output_type": "stream",
     "text": [
      "trainning_loss = 0.0006743045215427815\n",
      "testing_loss = 0.005857918202164068\n",
      "epoch: 16\n"
     ]
    },
    {
     "name": "stderr",
     "output_type": "stream",
     "text": [
      "100%|██████████| 2810/2810 [01:21<00:00, 34.58it/s]\n"
     ]
    },
    {
     "name": "stdout",
     "output_type": "stream",
     "text": [
      "trainning_loss = 0.0006647219195766408\n",
      "testing_loss = 0.0056159790671000895\n",
      "epoch: 17\n"
     ]
    },
    {
     "name": "stderr",
     "output_type": "stream",
     "text": [
      "100%|██████████| 2810/2810 [01:18<00:00, 35.68it/s]\n"
     ]
    },
    {
     "name": "stdout",
     "output_type": "stream",
     "text": [
      "trainning_loss = 0.0006578262630925478\n",
      "testing_loss = 0.004148742801305616\n",
      "epoch: 18\n"
     ]
    },
    {
     "name": "stderr",
     "output_type": "stream",
     "text": [
      "100%|██████████| 2810/2810 [01:20<00:00, 34.82it/s]\n"
     ]
    },
    {
     "name": "stdout",
     "output_type": "stream",
     "text": [
      "trainning_loss = 0.0006486083030285565\n",
      "testing_loss = 0.004911451718732999\n",
      "epoch: 19\n"
     ]
    },
    {
     "name": "stderr",
     "output_type": "stream",
     "text": [
      "100%|██████████| 2810/2810 [01:23<00:00, 33.85it/s]\n"
     ]
    },
    {
     "name": "stdout",
     "output_type": "stream",
     "text": [
      "trainning_loss = 0.0006383787672506857\n",
      "testing_loss = 0.006461423249237107\n"
     ]
    },
    {
     "data": {
      "text/plain": [
       "<Figure size 640x480 with 0 Axes>"
      ]
     },
     "metadata": {},
     "output_type": "display_data"
    }
   ],
   "execution_count": 18
  },
  {
   "metadata": {
    "ExecuteTime": {
     "end_time": "2025-07-25T15:28:34.331424Z",
     "start_time": "2025-07-25T15:28:34.205826Z"
    }
   },
   "cell_type": "code",
   "source": [
    "# train_loss plot\n",
    "import matplotlib.pyplot as plt\n",
    "plt.figure()\n",
    "plt.title('Training Loss')\n",
    "plt.xlabel('Epoch')\n",
    "plt.ylabel('Loss')\n",
    "plt.grid()\n",
    "plt.plot(range(len(train_loss)), train_loss)\n",
    "plt.show()"
   ],
   "id": "ac93a3fa90997d61",
   "outputs": [
    {
     "data": {
      "text/plain": [
       "<Figure size 640x480 with 1 Axes>"
      ],
      "image/png": "[encoded data removed]"
     },
     "metadata": {},
     "output_type": "display_data"
    }
   ],
   "execution_count": 19
  }
 ],
 "metadata": {
  "kernelspec": {
   "display_name": "Python 3",
   "language": "python",
   "name": "python3"
  },
  "language_info": {
   "codemirror_mode": {
    "name": "ipython",
    "version": 2
   },
   "file_extension": ".py",
   "mimetype": "text/x-python",
   "name": "python",
   "nbconvert_exporter": "python",
   "pygments_lexer": "ipython2",
   "version": "2.7.6"
  }
 },
 "nbformat": 4,
 "nbformat_minor": 5
}
