{
 "cells": [
  {
   "cell_type": "code",
   "id": "initial_id",
   "metadata": {
    "collapsed": true,
    "ExecuteTime": {
     "end_time": "2025-07-25T13:56:17.649590Z",
     "start_time": "2025-07-25T13:56:13.235438Z"
    }
   },
   "source": [
    "import torch\n",
    "import torch.nn as nn\n",
    "import torch.optim as opt\n",
    "from model.sffnet import USFFNet\n",
    "from utils.evaluate import Evaluate\n",
    "\n",
    "from torch.utils.data import DataLoader, TensorDataset\n",
    "# from torch.utils.tensorboard import SummaryWriter\n",
    "# writer = SummaryWriter('./logs')\n",
    "from torchvision import utils as vutils\n",
    "import os\n",
    "import random\n",
    "import pandas as pd\n",
    "import numpy as np\n",
    "import warnings\n",
    "import numpy as np\n",
    "import pandas as pd\n",
    "import torch\n",
    "from torch.utils.data import DataLoader, TensorDataset\n",
    "from tqdm import tqdm\n",
    "warnings.filterwarnings('ignore')"
   ],
   "outputs": [],
   "execution_count": 2
  },
  {
   "metadata": {
    "ExecuteTime": {
     "end_time": "2025-07-25T13:56:21.692645Z",
     "start_time": "2025-07-25T13:56:21.687452Z"
    }
   },
   "cell_type": "code",
   "source": [
    "device = 'cuda:0'\n",
    "batch_size = 128\n",
    "stride = 1\n",
    "window_size = 150\n",
    "\n",
    "path = './datasets/SOC/0degC'\n",
    "train_list = ['589_Mixed1.csv', '589_Mixed2.csv', '590_Mixed4.csv', '590_Mixed5.csv', '590_Mixed6.csv', '590_Mixed7.csv']\n",
    "test_list = ['590_Mixed8.csv']"
   ],
   "id": "24d1c06bf73ae848",
   "outputs": [],
   "execution_count": 3
  },
  {
   "metadata": {
    "ExecuteTime": {
     "end_time": "2025-07-25T13:56:26.800926Z",
     "start_time": "2025-07-25T13:56:24.096708Z"
    }
   },
   "cell_type": "code",
   "source": [
    "from utils.build_dataloader import get_dataloder\n",
    "train_loader, test_loader = get_dataloder(path, window_size, stride, train_list, test_list, batch_size, device)\n",
    "vali_loader = test_loader"
   ],
   "id": "bdb89e5efab554a1",
   "outputs": [
    {
     "name": "stdout",
     "output_type": "stream",
     "text": [
      "loading data...\n"
     ]
    },
    {
     "name": "stderr",
     "output_type": "stream",
     "text": [
      "100%|██████████| 6/6 [00:00<00:00,  6.98it/s]\n",
      "100%|██████████| 1/1 [00:00<00:00,  5.86it/s]\n"
     ]
    }
   ],
   "execution_count": 4
  },
  {
   "metadata": {
    "ExecuteTime": {
     "end_time": "2025-07-25T13:56:28.866265Z",
     "start_time": "2025-07-25T13:56:28.861971Z"
    }
   },
   "cell_type": "code",
   "source": [
    "test_ratio = 1\n",
    "epoches = 20\n",
    "weight_decay = 1e-4\n",
    "learning_rate = 5e-4\n",
    "loss_funcation = nn.MSELoss()\n",
    "evaluater = Evaluate(path.split('/')[1], 'Ablation', test_ratio)\n",
    "block_num = 5\n",
    "feature_num = 3\n",
    "\n",
    "spa_ks_list = [3, 5, 7, 7, 7]\n",
    "fre_ks_list = [3, 5, 7, 7, 7]\n",
    "fus_ks_list = [3, 3, 7, 7, 7]\n",
    "mid_channel_list = [32, 16, 8, 4, 4]\n"
   ],
   "id": "7ba17319fe97181c",
   "outputs": [],
   "execution_count": 5
  },
  {
   "metadata": {
    "ExecuteTime": {
     "end_time": "2025-07-25T14:43:46.416673Z",
     "start_time": "2025-07-25T14:43:46.396283Z"
    }
   },
   "cell_type": "code",
   "source": [
    "import torch\n",
    "import math\n",
    "import torch.nn.init as init\n",
    "import torch.nn as nn\n",
    "import torch.fft as fft\n",
    "from model.uncertainty_head import UncertaintyHead\n",
    "from model.basic_module import *\n",
    "from Embed import *\n",
    "from torchvision import utils as vutils\n",
    "import time\n",
    "\n",
    "\n",
    "class SpatialFlow(nn.Module):\n",
    "\n",
    "    def __init__(self, window_size, feature_num, mid_channel, kernel_size):\n",
    "        super(SpatialFlow, self).__init__()\n",
    "        padding = int(kernel_size//2)\n",
    "        self.up_conv1 = nn.Conv1d(feature_num  ,feature_num*2,kernel_size,1,padding)\n",
    "        self.up_conv2 = nn.Conv1d(feature_num*2,feature_num*4,kernel_size,1,padding)\n",
    "\n",
    "        self.c_conv = nn.Conv1d(feature_num*4, feature_num*4,kernel_size,1,padding)\n",
    "\n",
    "        self.down_conv2 = nn.Conv1d(feature_num*4,feature_num*2,kernel_size,1,padding)\n",
    "        self.down_conv1 = nn.Conv1d(feature_num*2,feature_num  ,kernel_size,1,padding)\n",
    "        # self.icb = ICB(feature_num,mid_channel)\n",
    "        # up_sampling\n",
    "\n",
    "        # down_sampling\n",
    "\n",
    "        self.Spa_CNN = nn.Sequential(nn.Conv1d(feature_num, mid_channel, kernel_size, 1, padding),\n",
    "                                      nn.ReLU(),\n",
    "                                      nn.Conv1d(mid_channel, feature_num, kernel_size, 1, padding),\n",
    "                                      )\n",
    "        self.act = nn.ReLU()\n",
    "\n",
    "\n",
    "    def forward(self, x):\n",
    "        Spa_feature = self.Spa_CNN(x)\n",
    "\n",
    "        return Spa_feature\n",
    "\n",
    "\n",
    "class FrequencyFlow(nn.Module):\n",
    "\n",
    "    def __init__(self, window_size, feature_num, mid_channel, kernel_size):\n",
    "        super(FrequencyFlow, self).__init__()\n",
    "        padding = int(kernel_size//2)\n",
    "        self.pha_process = nn.Sequential(nn.Conv1d(feature_num, mid_channel, kernel_size, 1, padding), nn.ReLU(),\n",
    "                                        nn.Conv1d(mid_channel, feature_num, kernel_size, 1, padding))\n",
    "        self.amp_process = nn.Sequential(nn.Conv1d(feature_num, mid_channel, kernel_size, 1, padding), nn.ReLU(),\n",
    "                                        nn.Conv1d(mid_channel, feature_num, kernel_size, 1, padding))\n",
    "\n",
    "    def make_complex(self, phase, amplitude):\n",
    "        real = amplitude * torch.cos(phase)\n",
    "        im = amplitude * torch.sin(phase)\n",
    "        complex_num = torch.complex(real, im)\n",
    "        return complex_num\n",
    "\n",
    "    def forward(self, x):\n",
    "        frequency = fft.fft(x, dim=2, norm='backward')\n",
    "        phase = torch.angle(frequency)\n",
    "        magnitude = torch.abs(frequency)\n",
    "        refine_phase = self.pha_process(phase)\n",
    "        refine_magnitude = self.amp_process(magnitude)\n",
    "        refine_spatial = self.make_complex(refine_phase, refine_magnitude)\n",
    "        Fre_feature = torch.abs(fft.ifft(refine_spatial, dim=2, norm='backward'))\n",
    "        return Fre_feature\n",
    "\n",
    "\n",
    "class FusionBlock(nn.Module):\n",
    "\n",
    "    def __init__(self, window_size, kernel_size, feature_num, r):\n",
    "        super(FusionBlock, self).__init__()\n",
    "        self.SA = SpatialAttention(kernel_size)\n",
    "        self.CA = ChannelAttention(feature_num, r)\n",
    "\n",
    "\n",
    "    def forward(self, fre_feature, spa_feature):\n",
    "        spatial_refine_feature = self.SA(fre_feature - spa_feature)\n",
    "        channel_refine_feature = self.CA(fre_feature + spa_feature)\n",
    "        return channel_refine_feature + spatial_refine_feature\n",
    "\n",
    "class ICB(nn.Module):\n",
    "    def __init__(self, in_features, hidden_features, drop=0.7):\n",
    "        super().__init__()\n",
    "        self.conv1 = nn.Conv1d(in_features, hidden_features, 1)\n",
    "        self.conv2 = nn.Conv1d(in_features, hidden_features, 3, 1, padding=1)\n",
    "        self.conv3 = nn.Conv1d(hidden_features, in_features, 1)\n",
    "        self.drop = nn.Dropout(drop)\n",
    "        self.act = nn.ReLU()\n",
    "        self.bn = nn.BatchNorm1d(in_features)\n",
    "\n",
    "    def forward(self, x):\n",
    "        # x = x.transpose(1, 2)\n",
    "        x1 = self.conv1(x)\n",
    "        x1_1 = self.act(x1)\n",
    "        x1_2 = self.drop(x1_1)\n",
    "\n",
    "        x2 = self.conv2(x)\n",
    "        x2_1 = self.act(x2)\n",
    "        x2_2 = self.drop(x2_1)\n",
    "\n",
    "        out1 = x1 * x2_2\n",
    "        out2 = x2 * x1_2\n",
    "\n",
    "        out = self.conv3(out1 + out2)\n",
    "\n",
    "        return out\n",
    "\n",
    "\n",
    "\n",
    "\n",
    "class CRU(nn.Module):\n",
    "\n",
    "    def __init__(self, window_size, kernel_size, feature_num, r):\n",
    "        super(CRU, self).__init__()\n",
    "        self.vc_channel = 2\n",
    "        self.t_channel = 1\n",
    "        ratio = 2\n",
    "        self.vc_conv1   = nn.Conv1d(self.vc_channel,self.vc_channel*ratio,kernel_size)\n",
    "        self.t_conv1 = nn.Conv1d(self.t_channel,self.t_channel*ratio,kernel_size)\n",
    "\n",
    "        self.vc_conv2 =nn.Conv1d(self.vc_channel*ratio,self.vc_channel,1)\n",
    "        self.t_conv2 = nn.Conv1d(self.t_channel*ratio,self.t_channel,1)\n",
    "\n",
    "        self.vc_conv3 =nn.Conv1d(self.vc_channel*ratio,self.vc_channel,kernel_size)\n",
    "        self.t_conv3 = nn.Conv1d(self.t_channel*ratio,self.t_channel,kernel_size)\n",
    "\n",
    "    def forward(self, x):\n",
    "        vc,t = torch.split(x,[self.vc_channel,self.t_channel],dim=1)\n",
    "        vc = self.vc_conv(vc)\n",
    "        t  = self.t_conv(t)\n",
    "\n",
    "        vc = self.vc_conv2(vc) + self.vc_conv3(vc)\n",
    "        t = self.t_conv2(t) + self.vc_conv3(t)\n",
    "\n",
    "        feature = torch.cat([vc,t],dim=1)\n",
    "\n",
    "        return feature + x\n",
    "\n",
    "class PAIFILTER(nn.Module):\n",
    "\n",
    "    def __init__(self,hidden_size,seq_len):\n",
    "        super(PAIFILTER, self).__init__()\n",
    "        self.seq_len = seq_len\n",
    "        self.pred_len = 1\n",
    "        self.scale = 0.02\n",
    "\n",
    "        self.embed_size = self.seq_len\n",
    "        self.hidden_size = hidden_size\n",
    "\n",
    "        self.w = nn.Parameter(self.scale * torch.randn(3, self.embed_size))\n",
    "\n",
    "        self.fc = nn.Sequential(\n",
    "            nn.Linear(self.embed_size, self.hidden_size),\n",
    "            nn.LeakyReLU(),\n",
    "            nn.Linear(self.hidden_size, self.pred_len)\n",
    "        )\n",
    "        self.softmx = nn.Softmax(dim=1)\n",
    "\n",
    "\n",
    "    def circular_convolution(self, x, w):\n",
    "        x = torch.fft.rfft(x, dim=2, norm='ortho')\n",
    "        w = torch.fft.rfft(w, dim=1, norm='ortho')\n",
    "        y = x * w\n",
    "        out = torch.fft.irfft(y, n=self.embed_size, dim=2, norm=\"ortho\")\n",
    "        return out\n",
    "\n",
    "    def forward(self, x):\n",
    "        x = self.circular_convolution(x, self.w.to(x.device))  # B, N, D\n",
    "        x = self.fc(x)\n",
    "        x = self.softmx(x)\n",
    "\n",
    "        return x\n",
    "\n",
    "\n",
    "class SFFBlock(nn.Module):\n",
    "\n",
    "    def __init__(self, window_size, feature_num, mid_channel, spa_ks, fre_ks, fus_ks, r, fb, sf, ff):\n",
    "        super(SFFBlock, self).__init__()\n",
    "        self.fb, self.sf, self.ff = fb, sf, ff\n",
    "        if fb is True:\n",
    "            self.FB = FusionBlock(window_size, fus_ks, feature_num, r)\n",
    "        if sf is True:\n",
    "            self.SF = SpatialFlow(window_size, feature_num, mid_channel, spa_ks)\n",
    "        if ff is True:\n",
    "            self.FF = FrequencyFlow(window_size, feature_num, mid_channel, fre_ks)\n",
    "\n",
    "        self.ffn = nn.Linear(feature_num*2,feature_num)\n",
    "        self.act = nn.Sigmoid()\n",
    "        self.Spa_feature = None\n",
    "        self.Fre_feature = None\n",
    "        self.Spa_feature_grad = None\n",
    "        self.Fre_feature_grad = None\n",
    "\n",
    "    def forward(self, x):\n",
    "        feature = 0\n",
    "        # 清空上次保存的特征\n",
    "        self.Spa_feature, self.Fre_feature = None, None\n",
    "\n",
    "        if self.sf is True:\n",
    "            Spa_feature = self.SF(x)\n",
    "            self.Spa_feature = Spa_feature\n",
    "            feature += Spa_feature\n",
    "            if self.training and Spa_feature.requires_grad:\n",
    "                Spa_feature.register_hook(lambda grad: setattr(self, 'Spa_feature_grad', grad))\n",
    "\n",
    "\n",
    "        if self.ff is True:\n",
    "            Fre_feature = self.FF(x)\n",
    "            self.Fre_feature = Fre_feature\n",
    "            feature += Fre_feature\n",
    "            if self.training and Fre_feature.requires_grad:\n",
    "                Fre_feature.register_hook(lambda grad: setattr(self, 'Fre_feature_grad', grad))\n",
    "\n",
    "        # ... [保持原有融合逻辑] ...\n",
    "        # feature = Spa_feature\n",
    "        # feature = Fre_feature\n",
    "        # feature = Fre_feature + Spa_feature\n",
    "        # feature = self.ffn(torch.concat([Spa_feature , Fre_feature],dim=1).transpose(2,1)).transpose(1,2)\n",
    "        # feature = self.FB(Spa_feature,Fre_feature)\n",
    "        # feature = self.icb(torch.concat([Spa_feature , Fre_feature],dim=1))\n",
    "\n",
    "        return feature+x\n",
    "\n",
    "\n",
    "class USFFNet(nn.Module):\n",
    "\n",
    "    def __init__(self, num_block, feature_num, window_size,stride, mid_channel_list, spa_ks_list, fre_ks_list, fus_ks_list):\n",
    "        super(USFFNet, self).__init__()\n",
    "        self.SFFBlock = nn.Sequential()\n",
    "        for i in range(num_block):\n",
    "             self.SFFBlock.add_module('SFFBlock'+str(i), SFFBlock(window_size, feature_num, mid_channel_list[i], spa_ks_list[i], fre_ks_list[i], fus_ks_list[i], 2, True, True, True))\n",
    "        self.CNNI = nn.Sequential(nn.Conv1d(feature_num, 1, 3, 1, 1))\n",
    "        self.Uncertainty_Head = UncertaintyHead(window_size,stride)\n",
    "        # self.icb = ICB(feature_num, feature_num)\n",
    "        self.embedding = DataEmbedding(feature_num,feature_num)\n",
    "\n",
    "        self.paifilter = PAIFILTER(hidden_size=50,seq_len=window_size)\n",
    "\n",
    "    def forward(self, x):\n",
    "\n",
    "        embeded_x = self.embedding(x)\n",
    "        # print(feature.shape)\n",
    "        # feature, weight  = self.Adaptive_Spectral_Block(embeded_x)\n",
    "        # print(feature.shape,sum(freq_mask))\n",
    "        # print(feature.shape)\n",
    "\n",
    "        weight = self.paifilter(embeded_x)\n",
    "\n",
    "        # feature = self.SFFBlock(feature + x )\n",
    "        feature = self.SFFBlock(weight * embeded_x + x)\n",
    "        # feature = self.CNNI(feature)\n",
    "        # feature = self.icb(feature)\n",
    "        #\n",
    "\n",
    "        feature = feature.reshape(feature.shape[0], feature.shape[1]*feature.shape[2])\n",
    "\n",
    "        gamma, nu, alpha, beta = self.Uncertainty_Head.forward(feature)\n",
    "        return gamma, nu, alpha, beta\n"
   ],
   "id": "b4409ae89b8ca94",
   "outputs": [],
   "execution_count": 24
  },
  {
   "metadata": {
    "ExecuteTime": {
     "end_time": "2025-07-25T13:56:49.737784Z",
     "start_time": "2025-07-25T13:56:49.639524Z"
    }
   },
   "cell_type": "code",
   "source": [
    "model = USFFNet(block_num, feature_num, window_size,stride, mid_channel_list, spa_ks_list, fre_ks_list, fus_ks_list).to(device)\n",
    "\n",
    "optimizer = opt.Adam(params=model.parameters(), lr=learning_rate, weight_decay=weight_decay)\n",
    "evaluater.record_param_setting(window_size, stride, batch_size, learning_rate, weight_decay, model)\n",
    "scheduler = torch.optim.lr_scheduler.StepLR(optimizer, step_size=20, gamma=0.2)\n"
   ],
   "id": "c25b6dc36c1619e9",
   "outputs": [],
   "execution_count": 9
  },
  {
   "metadata": {
    "ExecuteTime": {
     "end_time": "2025-07-25T13:56:52.423891Z",
     "start_time": "2025-07-25T13:56:52.419773Z"
    }
   },
   "cell_type": "code",
   "source": [
    "lambda_coef = []\n",
    "train_loss = []\n",
    "vaild_loss = []"
   ],
   "id": "da6988f3c24b6038",
   "outputs": [],
   "execution_count": 10
  },
  {
   "metadata": {
    "ExecuteTime": {
     "end_time": "2025-07-25T14:12:43.468721Z",
     "start_time": "2025-07-25T13:56:53.977155Z"
    }
   },
   "cell_type": "code",
   "outputs": [
    {
     "name": "stdout",
     "output_type": "stream",
     "text": [
      "epoch: 0\n"
     ]
    },
    {
     "name": "stderr",
     "output_type": "stream",
     "text": [
      "100%|██████████| 2810/2810 [00:43<00:00, 64.48it/s]\n"
     ]
    },
    {
     "name": "stdout",
     "output_type": "stream",
     "text": [
      "trainning_loss = 0.0019057066955361715\n",
      "testing_loss = 0.0010268736044125985\n",
      "Validation loss decreased (1.000000 --> 0.001027).  Saving model ...\n",
      "epoch: 1\n"
     ]
    },
    {
     "name": "stderr",
     "output_type": "stream",
     "text": [
      "100%|██████████| 2810/2810 [00:40<00:00, 68.77it/s]\n"
     ]
    },
    {
     "name": "stdout",
     "output_type": "stream",
     "text": [
      "trainning_loss = 0.0010717689251697876\n",
      "testing_loss = 0.001595748086799422\n",
      "epoch: 2\n"
     ]
    },
    {
     "name": "stderr",
     "output_type": "stream",
     "text": [
      "100%|██████████| 2810/2810 [00:47<00:00, 59.69it/s]\n"
     ]
    },
    {
     "name": "stdout",
     "output_type": "stream",
     "text": [
      "trainning_loss = 0.0008139449724280424\n",
      "testing_loss = 0.0009080636334484846\n",
      "Validation loss decreased (0.001027 --> 0.000908).  Saving model ...\n",
      "epoch: 3\n"
     ]
    },
    {
     "name": "stderr",
     "output_type": "stream",
     "text": [
      "100%|██████████| 2810/2810 [00:45<00:00, 62.19it/s]\n"
     ]
    },
    {
     "name": "stdout",
     "output_type": "stream",
     "text": [
      "trainning_loss = 0.0006478862114021973\n",
      "testing_loss = 0.0008996263362762387\n",
      "Validation loss decreased (0.000908 --> 0.000900).  Saving model ...\n",
      "epoch: 4\n"
     ]
    },
    {
     "name": "stderr",
     "output_type": "stream",
     "text": [
      "100%|██████████| 2810/2810 [00:41<00:00, 67.99it/s]\n"
     ]
    },
    {
     "name": "stdout",
     "output_type": "stream",
     "text": [
      "trainning_loss = 0.0005811482141050427\n",
      "testing_loss = 0.0009122659326541961\n",
      "epoch: 5\n"
     ]
    },
    {
     "name": "stderr",
     "output_type": "stream",
     "text": [
      "100%|██████████| 2810/2810 [00:41<00:00, 67.61it/s]\n"
     ]
    },
    {
     "name": "stdout",
     "output_type": "stream",
     "text": [
      "trainning_loss = 0.000572234559875666\n",
      "testing_loss = 0.000771562229687942\n",
      "Validation loss decreased (0.000900 --> 0.000772).  Saving model ...\n",
      "epoch: 6\n"
     ]
    },
    {
     "name": "stderr",
     "output_type": "stream",
     "text": [
      "100%|██████████| 2810/2810 [00:41<00:00, 66.96it/s]\n"
     ]
    },
    {
     "name": "stdout",
     "output_type": "stream",
     "text": [
      "trainning_loss = 0.0005711340040939585\n",
      "testing_loss = 0.0010260508527203589\n",
      "epoch: 7\n"
     ]
    },
    {
     "name": "stderr",
     "output_type": "stream",
     "text": [
      "100%|██████████| 2810/2810 [00:45<00:00, 61.96it/s]\n"
     ]
    },
    {
     "name": "stdout",
     "output_type": "stream",
     "text": [
      "trainning_loss = 0.0006704569579532131\n",
      "testing_loss = 0.0005642254404366674\n",
      "Validation loss decreased (0.000772 --> 0.000564).  Saving model ...\n",
      "epoch: 8\n"
     ]
    },
    {
     "name": "stderr",
     "output_type": "stream",
     "text": [
      "100%|██████████| 2810/2810 [00:46<00:00, 60.48it/s]\n"
     ]
    },
    {
     "name": "stdout",
     "output_type": "stream",
     "text": [
      "trainning_loss = 0.0005733335645474971\n",
      "testing_loss = 0.0007336105915619421\n",
      "epoch: 9\n"
     ]
    },
    {
     "name": "stderr",
     "output_type": "stream",
     "text": [
      "100%|██████████| 2810/2810 [00:45<00:00, 61.57it/s]\n"
     ]
    },
    {
     "name": "stdout",
     "output_type": "stream",
     "text": [
      "trainning_loss = 0.0005347765804420878\n",
      "testing_loss = 0.0005939944429363376\n",
      "epoch: 10\n"
     ]
    },
    {
     "name": "stderr",
     "output_type": "stream",
     "text": [
      "100%|██████████| 2810/2810 [00:42<00:00, 66.75it/s]\n"
     ]
    },
    {
     "name": "stdout",
     "output_type": "stream",
     "text": [
      "trainning_loss = 0.00048528552571977773\n",
      "testing_loss = 0.0006298065430452566\n",
      "epoch: 11\n"
     ]
    },
    {
     "name": "stderr",
     "output_type": "stream",
     "text": [
      "100%|██████████| 2810/2810 [00:46<00:00, 60.52it/s]\n"
     ]
    },
    {
     "name": "stdout",
     "output_type": "stream",
     "text": [
      "trainning_loss = 0.0004559499595966356\n",
      "testing_loss = 0.0006675739160654945\n",
      "epoch: 12\n"
     ]
    },
    {
     "name": "stderr",
     "output_type": "stream",
     "text": [
      "100%|██████████| 2810/2810 [00:48<00:00, 58.38it/s]\n"
     ]
    },
    {
     "name": "stdout",
     "output_type": "stream",
     "text": [
      "trainning_loss = 0.0004282304190450971\n",
      "testing_loss = 0.0005394907656180023\n",
      "Validation loss decreased (0.000564 --> 0.000539).  Saving model ...\n",
      "epoch: 13\n"
     ]
    },
    {
     "name": "stderr",
     "output_type": "stream",
     "text": [
      "100%|██████████| 2810/2810 [00:46<00:00, 61.01it/s]\n"
     ]
    },
    {
     "name": "stdout",
     "output_type": "stream",
     "text": [
      "trainning_loss = 0.00041422522736086055\n",
      "testing_loss = 0.0005878968613807408\n",
      "epoch: 14\n"
     ]
    },
    {
     "name": "stderr",
     "output_type": "stream",
     "text": [
      "100%|██████████| 2810/2810 [00:44<00:00, 63.12it/s]\n"
     ]
    },
    {
     "name": "stdout",
     "output_type": "stream",
     "text": [
      "trainning_loss = 0.0003990776080793943\n",
      "testing_loss = 0.0006172892235947062\n",
      "epoch: 15\n"
     ]
    },
    {
     "name": "stderr",
     "output_type": "stream",
     "text": [
      "100%|██████████| 2810/2810 [00:43<00:00, 65.32it/s]\n"
     ]
    },
    {
     "name": "stdout",
     "output_type": "stream",
     "text": [
      "trainning_loss = 0.00039150430582148054\n",
      "testing_loss = 0.0008765220307810416\n",
      "epoch: 16\n"
     ]
    },
    {
     "name": "stderr",
     "output_type": "stream",
     "text": [
      "100%|██████████| 2810/2810 [00:41<00:00, 67.49it/s]\n"
     ]
    },
    {
     "name": "stdout",
     "output_type": "stream",
     "text": [
      "trainning_loss = 0.0003799351838136049\n",
      "testing_loss = 0.000834771356568019\n",
      "epoch: 17\n"
     ]
    },
    {
     "name": "stderr",
     "output_type": "stream",
     "text": [
      "100%|██████████| 2810/2810 [00:46<00:00, 60.69it/s]\n"
     ]
    },
    {
     "name": "stdout",
     "output_type": "stream",
     "text": [
      "trainning_loss = 0.0003706619811268752\n",
      "testing_loss = 0.0006204312217539777\n",
      "epoch: 18\n"
     ]
    },
    {
     "name": "stderr",
     "output_type": "stream",
     "text": [
      "100%|██████████| 2810/2810 [00:45<00:00, 61.31it/s]\n"
     ]
    },
    {
     "name": "stdout",
     "output_type": "stream",
     "text": [
      "trainning_loss = 0.0003647316332982714\n",
      "testing_loss = 0.0007244934432987173\n",
      "epoch: 19\n"
     ]
    },
    {
     "name": "stderr",
     "output_type": "stream",
     "text": [
      "100%|██████████| 2810/2810 [00:43<00:00, 64.21it/s]\n"
     ]
    },
    {
     "name": "stdout",
     "output_type": "stream",
     "text": [
      "trainning_loss = 0.0003643924986456398\n",
      "testing_loss = 0.0007187064576136074\n"
     ]
    },
    {
     "data": {
      "text/plain": [
       "<Figure size 640x480 with 0 Axes>"
      ]
     },
     "metadata": {},
     "output_type": "display_data"
    }
   ],
   "execution_count": 11,
   "source": [
    "for epoch in range(epoches):\n",
    "    model.train()\n",
    "    epoch_loss = 0\n",
    "    print('epoch: '+str(epoch))\n",
    "    for x, y in tqdm(train_loader):\n",
    "        # train\n",
    "        gamma, nu, alpha, beta = model.forward(x)\n",
    "        loss, nig_loss, nig_regularization = model.Uncertainty_Head.get_loss(y, gamma, nu, alpha, beta)\n",
    "\n",
    "        loss = loss_funcation(gamma, y)+loss\n",
    "        optimizer.zero_grad()\n",
    "        loss.backward()\n",
    "        optimizer.step()\n",
    "        model.Uncertainty_Head.hyperparams_update(nig_regularization)\n",
    "        # print(gamma.shape)\n",
    "        _loss = loss_funcation(gamma, y)\n",
    "        epoch_loss += _loss.item()\n",
    "\n",
    "    epoch_loss /= train_loader.__len__()\n",
    "#     writer.add_scalar(\"Loss/train\",epoch_loss,epoch)\n",
    "    lambda_coef.append(model.Uncertainty_Head.lambda_coef.detach().cpu().numpy())\n",
    "    train_loss.append(epoch_loss)\n",
    "    print('trainning_loss = '+str(epoch_loss))\n",
    "    if epoch%test_ratio == 0:\n",
    "        model.eval()\n",
    "        epoch_loss = 0\n",
    "        for x, y in test_loader:\n",
    "            gamma, nu, alpha, beta = model.forward(x)\n",
    "            gamma = torch.cat((gamma[:5], (gamma[:-5] + gamma[1:-4]  + gamma[2:-3] + gamma[3:-2] + gamma[4:-1]) / 5), dim=0)\n",
    "            _loss = loss_funcation(gamma, y)\n",
    "            epoch_loss += _loss.item()\n",
    "        epoch_loss /= test_loader.__len__()\n",
    "#         writer.add_scalar('Loss/vali',epoch_loss,epoch)\n",
    "\n",
    "        vaild_loss.append(epoch_loss)\n",
    "        print('testing_loss = '+str(epoch_loss))\n",
    "\n",
    "    # if early_stopping.early_stop:\n",
    "    #     print(\"Early stopping\")\n",
    "    #    break\n",
    "    evaluater.visualize(train_loss, vaild_loss, model, None)"
   ],
   "id": "589df0f1d64f2b"
  },
  {
   "metadata": {
    "ExecuteTime": {
     "end_time": "2025-07-25T14:55:11.652358Z",
     "start_time": "2025-07-25T14:55:11.562358Z"
    }
   },
   "cell_type": "code",
   "source": [
    "# train_loss plot\n",
    "import matplotlib.pyplot as plt\n",
    "plt.figure()\n",
    "plt.title('Training Loss')\n",
    "plt.xlabel('Epoch')\n",
    "plt.ylabel('Loss')\n",
    "plt.grid()\n",
    "plt.plot(range(len(train_loss)), train_loss)\n",
    "plt.show()"
   ],
   "id": "1793eb0d0ce08f29",
   "outputs": [
    {
     "data": {
      "text/plain": [
       "<Figure size 640x480 with 1 Axes>"
      ],
      "image/png": "[encoded data removed]"
     },
     "metadata": {},
     "output_type": "display_data"
    }
   ],
   "execution_count": 29
  },
  {
   "metadata": {
    "ExecuteTime": {
     "end_time": "2025-07-25T14:28:53.598676Z",
     "start_time": "2025-07-25T14:28:53.559683Z"
    }
   },
   "cell_type": "code",
   "source": [
    "exp_path = 'result/datasets/Ablation/exp0'\n",
    "model = torch.load(os.path.join(exp_path, 'model.pkl')).to(device)"
   ],
   "id": "8cca7b289801a7e8",
   "outputs": [],
   "execution_count": 17
  },
  {
   "metadata": {
    "ExecuteTime": {
     "end_time": "2025-07-25T14:28:55.304355Z",
     "start_time": "2025-07-25T14:28:55.298356Z"
    }
   },
   "cell_type": "code",
   "source": [
    "def analyze_feature_norms(model, dataloader):\n",
    "    \"\"\"分析时域/频域特征的相对幅度\"\"\"\n",
    "    model.eval()  # 评估模式\n",
    "    spa_norms, fre_norms = [], []\n",
    "    block_spa_norms = [[] for _ in model.SFFBlock]\n",
    "    block_fre_norms = [[] for _ in model.SFFBlock]\n",
    "\n",
    "    with torch.no_grad():\n",
    "        for x, y in dataloader:\n",
    "            _ = model(x)  # 前向传播\n",
    "            # 收集所有block的特征范数\n",
    "            for i, block in enumerate(model.SFFBlock):\n",
    "                if block.Spa_feature is not None:\n",
    "                    spa_norm = torch.norm(block.Spa_feature, p='fro').item()\n",
    "                    block_spa_norms[i].append(spa_norm)\n",
    "                    spa_norms.append(spa_norm)\n",
    "\n",
    "                if block.Fre_feature is not None:\n",
    "                    fre_norm = torch.norm(block.Fre_feature, p='fro').item()\n",
    "                    block_fre_norms[i].append(fre_norm)\n",
    "                    fre_norms.append(fre_norm)\n",
    "\n",
    "    # 整体统计\n",
    "    print(f\"全局时域特征平均范数: {np.mean(spa_norms):.4f} ± {np.std(spa_norms):.4f}\")\n",
    "    print(f\"全局频域特征平均范数: {np.mean(fre_norms):.4f} ± {np.std(fre_norms):.4f}\")\n",
    "    print(f\"时域/频域范数比: {np.mean(spa_norms)/np.mean(fre_norms):.4f}\")\n",
    "\n",
    "    # 各block统计\n",
    "    for i in range(len(block_spa_norms)):\n",
    "        if block_spa_norms[i]:\n",
    "            spa_mean = np.mean(block_spa_norms[i])\n",
    "            fre_mean = np.mean(block_fre_norms[i])\n",
    "            print(f\"Block {i}: 时域={spa_mean:.4f}, 频域={fre_mean:.4f}, 比例={spa_mean/fre_mean:.4f}\")\n",
    "\n",
    "    return spa_norms, fre_norms"
   ],
   "id": "60c3d0980c389f8c",
   "outputs": [],
   "execution_count": 18
  },
  {
   "metadata": {
    "ExecuteTime": {
     "end_time": "2025-07-25T14:28:58.697206Z",
     "start_time": "2025-07-25T14:28:58.691748Z"
    }
   },
   "cell_type": "code",
   "source": [
    "def analyze_feature_gradients(model, dataloader, criterion):\n",
    "    \"\"\"分析特征在反向传播中的重要性\"\"\"\n",
    "    model.train()  # 训练模式（启用梯度）\n",
    "    spa_grads, fre_grads = [], []\n",
    "    block_spa_grads = [[] for _ in model.SFFBlock]\n",
    "    block_fre_grads = [[] for _ in model.SFFBlock]\n",
    "\n",
    "    for x, y in dataloader:\n",
    "        model.zero_grad()\n",
    "        gamma, nu, alpha, beta = model(x)\n",
    "        loss = criterion(gamma, nu, alpha, beta, y)\n",
    "        loss.backward()\n",
    "\n",
    "        # 收集梯度信息\n",
    "        for i, block in enumerate(model.SFFBlock):\n",
    "            if block.Spa_feature_grad is not None:\n",
    "                grad_norm = torch.norm(block.Spa_feature_grad, p='fro').item()\n",
    "                block_spa_grads[i].append(grad_norm)\n",
    "                spa_grads.append(grad_norm)\n",
    "\n",
    "            if block.Fre_feature_grad is not None:\n",
    "                grad_norm = torch.norm(block.Fre_feature_grad, p='fro').item()\n",
    "                block_fre_grads[i].append(grad_norm)\n",
    "                fre_grads.append(grad_norm)\n",
    "\n",
    "    # 整体统计\n",
    "    print(f\"时域特征平均梯度范数: {np.mean(spa_grads):.4f} ± {np.std(spa_grads):.4f}\")\n",
    "    print(f\"频域特征平均梯度范数: {np.mean(fre_grads):.4f} ± {np.std(fre_grads):.4f}\")\n",
    "    print(f\"时域/频域梯度比: {np.mean(spa_grads)/np.mean(fre_grads):.4f}\")\n",
    "\n",
    "    # 各block统计\n",
    "    for i in range(len(block_spa_grads)):\n",
    "        if block_spa_grads[i]:\n",
    "            spa_grad = np.mean(block_spa_grads[i])\n",
    "            fre_grad = np.mean(block_fre_grads[i])\n",
    "            print(f\"Block {i}: 时域梯度={spa_grad:.4f}, 频域梯度={fre_grad:.4f}, 比例={spa_grad/fre_grad:.4f}\")\n",
    "\n",
    "    return spa_grads, fre_grads"
   ],
   "id": "22dc16dbd530419",
   "outputs": [],
   "execution_count": 19
  },
  {
   "metadata": {
    "ExecuteTime": {
     "end_time": "2025-07-25T14:51:19.062597Z",
     "start_time": "2025-07-25T14:50:30.787163Z"
    }
   },
   "cell_type": "code",
   "source": [
    "model = USFFNet(block_num, feature_num, window_size,stride, mid_channel_list, spa_ks_list, fre_ks_list, fus_ks_list).to(device)\n",
    "models = torch.load(os.path.join(exp_path, 'model.pkl')).to(device)\n",
    "from model.uncertainty_head import UncertaintyHead\n",
    "# 定义损失函数（假设使用负对数似然）\n",
    "def criterion(gamma, nu, alpha, beta, y):\n",
    "    # 实现正态逆伽马分布的NLL损失\n",
    "    # [根据您的实际损失函数实现]\n",
    "    nll_loss ,_,_= model.Uncertainty_Head.get_loss(y, gamma, nu, alpha, beta)\n",
    "    return nll_loss\n",
    "\n",
    "# 执行分析\n",
    "print(\"=== 特征范数分析 ===\")\n",
    "spa_norms, fre_norms = analyze_feature_norms(models, vali_loader)\n",
    "\n",
    "print(\"\\n=== 梯度重要性分析 ===\")\n",
    "spa_grads, fre_grads = analyze_feature_gradients(models, train_loader, criterion)\n"
   ],
   "id": "585f47bd8e1a8a82",
   "outputs": [
    {
     "name": "stdout",
     "output_type": "stream",
     "text": [
      "=== 特征范数分析 ===\n",
      "全局时域特征平均范数: 60.3993 ± 36.8461\n",
      "全局频域特征平均范数: 31.1333 ± 8.6686\n",
      "时域/频域范数比: 1.9400\n",
      "Block 0: 时域=114.8999, 频域=32.9905, 比例=3.4828\n",
      "Block 1: 时域=43.2653, 频域=34.6235, 比例=1.2496\n",
      "Block 2: 时域=57.6840, 频域=36.8561, 比例=1.5651\n",
      "Block 3: 时域=40.5001, 频域=31.3335, 比例=1.2926\n",
      "Block 4: 时域=45.6469, 频域=19.8627, 比例=2.2981\n",
      "\n",
      "=== 梯度重要性分析 ===\n",
      "时域特征平均梯度范数: 0.1353 ± 1.2398\n",
      "频域特征平均梯度范数: 0.1353 ± 1.2398\n",
      "时域/频域梯度比: 1.0000\n",
      "Block 0: 时域梯度=0.2435, 频域梯度=0.2435, 比例=1.0000\n",
      "Block 1: 时域梯度=0.1848, 频域梯度=0.1848, 比例=1.0000\n",
      "Block 2: 时域梯度=0.0945, 频域梯度=0.0945, 比例=1.0000\n",
      "Block 3: 时域梯度=0.0820, 频域梯度=0.0820, 比例=1.0000\n",
      "Block 4: 时域梯度=0.0718, 频域梯度=0.0718, 比例=1.0000\n"
     ]
    }
   ],
   "execution_count": 26
  }
 ],
 "metadata": {
  "kernelspec": {
   "display_name": "Python 3",
   "language": "python",
   "name": "python3"
  },
  "language_info": {
   "codemirror_mode": {
    "name": "ipython",
    "version": 2
   },
   "file_extension": ".py",
   "mimetype": "text/x-python",
   "name": "python",
   "nbconvert_exporter": "python",
   "pygments_lexer": "ipython2",
   "version": "2.7.6"
  }
 },
 "nbformat": 4,
 "nbformat_minor": 5
}
